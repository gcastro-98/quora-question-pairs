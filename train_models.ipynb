{
 "cells": [
  {
   "cell_type": "markdown",
   "metadata": {},
   "source": [
    "# Train models notebook"
   ]
  },
  {
   "cell_type": "markdown",
   "metadata": {},
   "source": [
    "Notebook with the code needed to train and store models to disc"
   ]
  },
  {
   "cell_type": "markdown",
   "metadata": {},
   "source": [
    "## 0. Set-up\n",
    "Imports and basic set-up"
   ]
  },
  {
   "cell_type": "code",
   "execution_count": 4,
   "metadata": {},
   "outputs": [
    {
     "name": "stderr",
     "output_type": "stream",
     "text": [
      "[nltk_data] Downloading package punkt to /home/gcastro/nltk_data...\n",
      "[nltk_data]   Package punkt is already up-to-date!\n"
     ]
    }
   ],
   "source": [
    "# Library functions\n",
    "import pandas as pd\n",
    "from sklearn.model_selection import train_test_split\n",
    "from sklearn.model_selection import GridSearchCV\n",
    "from sklearn.linear_model import LogisticRegression\n",
    "from sklearn.ensemble import RandomForestClassifier\n",
    "from sklearn.svm import SVC\n",
    "from sklearn.neighbors import KNeighborsClassifier\n",
    "from sklearn.naive_bayes import BernoulliNB, GaussianNB\n",
    "from sklearn.discriminant_analysis import LinearDiscriminantAnalysis, QuadraticDiscriminantAnalysis\n",
    "from sklearn.ensemble import AdaBoostClassifier, GradientBoostingClassifier\n",
    "from sklearn.pipeline import Pipeline\n",
    "#from xgboost import XGBClassifier\n",
    "#from catboost import CatBoostClassifier\n",
    "import multiprocessing\n",
    "import os\n",
    "import joblib\n",
    "from tqdm import tqdm\n",
    "\n",
    "# Our functions\n",
    "from utils import TextPreprocessor, FeatureGenerator, remove_nan_questions, get_param_grid\n",
    "# patch_sklearn()  # to speed up scikit-learn"
   ]
  },
  {
   "cell_type": "code",
   "execution_count": 5,
   "metadata": {},
   "outputs": [],
   "source": [
    "_path_folder_quora = \"~/Datasets/QuoraQuestionPairs\"\n",
    "MODELS_DIR = \"model_artifacts\"\n",
    "SEED = 123"
   ]
  },
  {
   "cell_type": "code",
   "execution_count": 6,
   "metadata": {},
   "outputs": [
    {
     "name": "stdout",
     "output_type": "stream",
     "text": [
      "Folder 'model_artifacts' already exists.\n"
     ]
    }
   ],
   "source": [
    "if not os.path.exists(MODELS_DIR):\n",
    "    os.makedirs(MODELS_DIR)\n",
    "    print(f\"Folder '{MODELS_DIR}' created successfully.\")\n",
    "else:\n",
    "    print(f\"Folder '{MODELS_DIR}' already exists.\")"
   ]
  },
  {
   "cell_type": "markdown",
   "metadata": {},
   "source": [
    "## 1. Load data\n",
    "\n",
    "We load the data and split it into features and labels. It is necessary to drop the `nan` questions"
   ]
  },
  {
   "cell_type": "code",
   "execution_count": 7,
   "metadata": {},
   "outputs": [],
   "source": [
    "train_df = pd.read_csv(os.path.join(_path_folder_quora, \"quora_train_data.csv\"))\n",
    "x_train = train_df.loc[:, [\"question1\", \"question2\"]]\n",
    "y_train = train_df.loc[:, \"is_duplicate\"]\n",
    "\n",
    "x_train, y_train = remove_nan_questions(x_train, y_train)\n",
    "\n",
    "x_train, x_test, y_train, y_test = train_test_split(\n",
    "        x_train, y_train, test_size=0.05, random_state=SEED)\n",
    "x_train, x_validation, y_train, y_validation = train_test_split(\n",
    "        x_train, y_train, test_size=0.05, random_state=SEED)"
   ]
  },
  {
   "cell_type": "markdown",
   "metadata": {},
   "source": [
    "Split into train and test"
   ]
  },
  {
   "cell_type": "markdown",
   "metadata": {},
   "source": [
    "## 2. Define the model"
   ]
  },
  {
   "cell_type": "markdown",
   "metadata": {},
   "source": [
    "### 2.1 Simple solution"
   ]
  },
  {
   "cell_type": "markdown",
   "metadata": {},
   "source": [
    "Our simple solution performs basic text preprocessing, feature generation with CountVectorizer and Horizontal stacking followed by a logistic regression model."
   ]
  },
  {
   "cell_type": "code",
   "execution_count": 25,
   "metadata": {},
   "outputs": [
    {
     "name": "stdout",
     "output_type": "stream",
     "text": [
      "[Pipeline] ...... (step 1 of 3) Processing preprocessor, total=   0.2s\n",
      "[Pipeline] ......... (step 2 of 3) Processing generator, total=   5.8s\n",
      "[Pipeline] ........ (step 3 of 3) Processing classifier, total=  30.0s\n"
     ]
    },
    {
     "data": {
      "text/html": [
       "<style>#sk-container-id-3 {color: black;background-color: white;}#sk-container-id-3 pre{padding: 0;}#sk-container-id-3 div.sk-toggleable {background-color: white;}#sk-container-id-3 label.sk-toggleable__label {cursor: pointer;display: block;width: 100%;margin-bottom: 0;padding: 0.3em;box-sizing: border-box;text-align: center;}#sk-container-id-3 label.sk-toggleable__label-arrow:before {content: \"▸\";float: left;margin-right: 0.25em;color: #696969;}#sk-container-id-3 label.sk-toggleable__label-arrow:hover:before {color: black;}#sk-container-id-3 div.sk-estimator:hover label.sk-toggleable__label-arrow:before {color: black;}#sk-container-id-3 div.sk-toggleable__content {max-height: 0;max-width: 0;overflow: hidden;text-align: left;background-color: #f0f8ff;}#sk-container-id-3 div.sk-toggleable__content pre {margin: 0.2em;color: black;border-radius: 0.25em;background-color: #f0f8ff;}#sk-container-id-3 input.sk-toggleable__control:checked~div.sk-toggleable__content {max-height: 200px;max-width: 100%;overflow: auto;}#sk-container-id-3 input.sk-toggleable__control:checked~label.sk-toggleable__label-arrow:before {content: \"▾\";}#sk-container-id-3 div.sk-estimator input.sk-toggleable__control:checked~label.sk-toggleable__label {background-color: #d4ebff;}#sk-container-id-3 div.sk-label input.sk-toggleable__control:checked~label.sk-toggleable__label {background-color: #d4ebff;}#sk-container-id-3 input.sk-hidden--visually {border: 0;clip: rect(1px 1px 1px 1px);clip: rect(1px, 1px, 1px, 1px);height: 1px;margin: -1px;overflow: hidden;padding: 0;position: absolute;width: 1px;}#sk-container-id-3 div.sk-estimator {font-family: monospace;background-color: #f0f8ff;border: 1px dotted black;border-radius: 0.25em;box-sizing: border-box;margin-bottom: 0.5em;}#sk-container-id-3 div.sk-estimator:hover {background-color: #d4ebff;}#sk-container-id-3 div.sk-parallel-item::after {content: \"\";width: 100%;border-bottom: 1px solid gray;flex-grow: 1;}#sk-container-id-3 div.sk-label:hover label.sk-toggleable__label {background-color: #d4ebff;}#sk-container-id-3 div.sk-serial::before {content: \"\";position: absolute;border-left: 1px solid gray;box-sizing: border-box;top: 0;bottom: 0;left: 50%;z-index: 0;}#sk-container-id-3 div.sk-serial {display: flex;flex-direction: column;align-items: center;background-color: white;padding-right: 0.2em;padding-left: 0.2em;position: relative;}#sk-container-id-3 div.sk-item {position: relative;z-index: 1;}#sk-container-id-3 div.sk-parallel {display: flex;align-items: stretch;justify-content: center;background-color: white;position: relative;}#sk-container-id-3 div.sk-item::before, #sk-container-id-3 div.sk-parallel-item::before {content: \"\";position: absolute;border-left: 1px solid gray;box-sizing: border-box;top: 0;bottom: 0;left: 50%;z-index: -1;}#sk-container-id-3 div.sk-parallel-item {display: flex;flex-direction: column;z-index: 1;position: relative;background-color: white;}#sk-container-id-3 div.sk-parallel-item:first-child::after {align-self: flex-end;width: 50%;}#sk-container-id-3 div.sk-parallel-item:last-child::after {align-self: flex-start;width: 50%;}#sk-container-id-3 div.sk-parallel-item:only-child::after {width: 0;}#sk-container-id-3 div.sk-dashed-wrapped {border: 1px dashed gray;margin: 0 0.4em 0.5em 0.4em;box-sizing: border-box;padding-bottom: 0.4em;background-color: white;}#sk-container-id-3 div.sk-label label {font-family: monospace;font-weight: bold;display: inline-block;line-height: 1.2em;}#sk-container-id-3 div.sk-label-container {text-align: center;}#sk-container-id-3 div.sk-container {/* jupyter's `normalize.less` sets `[hidden] { display: none; }` but bootstrap.min.css set `[hidden] { display: none !important; }` so we also need the `!important` here to be able to override the default hidden behavior on the sphinx rendered scikit-learn.org. See: https://github.com/scikit-learn/scikit-learn/issues/21755 */display: inline-block !important;position: relative;}#sk-container-id-3 div.sk-text-repr-fallback {display: none;}</style><div id=\"sk-container-id-3\" class=\"sk-top-container\"><div class=\"sk-text-repr-fallback\"><pre>Pipeline(steps=[(&#x27;preprocessor&#x27;,\n",
       "                 &lt;utils.TextPreprocessor object at 0x7fcbbeea12a0&gt;),\n",
       "                (&#x27;generator&#x27;,\n",
       "                 &lt;utils.FeatureGenerator object at 0x7fcbd10ca8f0&gt;),\n",
       "                (&#x27;classifier&#x27;,\n",
       "                 LogisticRegression(max_iter=1000, random_state=123,\n",
       "                                    solver=&#x27;liblinear&#x27;))],\n",
       "         verbose=True)</pre><b>In a Jupyter environment, please rerun this cell to show the HTML representation or trust the notebook. <br />On GitHub, the HTML representation is unable to render, please try loading this page with nbviewer.org.</b></div><div class=\"sk-container\" hidden><div class=\"sk-item sk-dashed-wrapped\"><div class=\"sk-label-container\"><div class=\"sk-label sk-toggleable\"><input class=\"sk-toggleable__control sk-hidden--visually\" id=\"sk-estimator-id-9\" type=\"checkbox\" ><label for=\"sk-estimator-id-9\" class=\"sk-toggleable__label sk-toggleable__label-arrow\">Pipeline</label><div class=\"sk-toggleable__content\"><pre>Pipeline(steps=[(&#x27;preprocessor&#x27;,\n",
       "                 &lt;utils.TextPreprocessor object at 0x7fcbbeea12a0&gt;),\n",
       "                (&#x27;generator&#x27;,\n",
       "                 &lt;utils.FeatureGenerator object at 0x7fcbd10ca8f0&gt;),\n",
       "                (&#x27;classifier&#x27;,\n",
       "                 LogisticRegression(max_iter=1000, random_state=123,\n",
       "                                    solver=&#x27;liblinear&#x27;))],\n",
       "         verbose=True)</pre></div></div></div><div class=\"sk-serial\"><div class=\"sk-item\"><div class=\"sk-estimator sk-toggleable\"><input class=\"sk-toggleable__control sk-hidden--visually\" id=\"sk-estimator-id-10\" type=\"checkbox\" ><label for=\"sk-estimator-id-10\" class=\"sk-toggleable__label sk-toggleable__label-arrow\">TextPreprocessor</label><div class=\"sk-toggleable__content\"><pre>&lt;utils.TextPreprocessor object at 0x7fcbbeea12a0&gt;</pre></div></div></div><div class=\"sk-item\"><div class=\"sk-estimator sk-toggleable\"><input class=\"sk-toggleable__control sk-hidden--visually\" id=\"sk-estimator-id-11\" type=\"checkbox\" ><label for=\"sk-estimator-id-11\" class=\"sk-toggleable__label sk-toggleable__label-arrow\">FeatureGenerator</label><div class=\"sk-toggleable__content\"><pre>&lt;utils.FeatureGenerator object at 0x7fcbd10ca8f0&gt;</pre></div></div></div><div class=\"sk-item\"><div class=\"sk-estimator sk-toggleable\"><input class=\"sk-toggleable__control sk-hidden--visually\" id=\"sk-estimator-id-12\" type=\"checkbox\" ><label for=\"sk-estimator-id-12\" class=\"sk-toggleable__label sk-toggleable__label-arrow\">LogisticRegression</label><div class=\"sk-toggleable__content\"><pre>LogisticRegression(max_iter=1000, random_state=123, solver=&#x27;liblinear&#x27;)</pre></div></div></div></div></div></div></div>"
      ],
      "text/plain": [
       "Pipeline(steps=[('preprocessor',\n",
       "                 <utils.TextPreprocessor object at 0x7fcbbeea12a0>),\n",
       "                ('generator',\n",
       "                 <utils.FeatureGenerator object at 0x7fcbd10ca8f0>),\n",
       "                ('classifier',\n",
       "                 LogisticRegression(max_iter=1000, random_state=123,\n",
       "                                    solver='liblinear'))],\n",
       "         verbose=True)"
      ]
     },
     "execution_count": 25,
     "metadata": {},
     "output_type": "execute_result"
    }
   ],
   "source": [
    "pipe = Pipeline(\n",
    "            [('preprocessor', TextPreprocessor(\n",
    "                to_lower=True\n",
    "            )),\n",
    "             ('generator', FeatureGenerator(exts=('cv', ), aggs=('stack', ), extra_features=tuple())),\n",
    "             ('classifier', LogisticRegression(max_iter=1000, solver=\"liblinear\",random_state=SEED))],\n",
    "            verbose=True)\n",
    "\n",
    "pipe.fit(x_train, y_train)"
   ]
  },
  {
   "cell_type": "code",
   "execution_count": 26,
   "metadata": {},
   "outputs": [
    {
     "data": {
      "text/plain": [
       "['model_artifacts/simple_solution.pk1']"
      ]
     },
     "execution_count": 26,
     "metadata": {},
     "output_type": "execute_result"
    }
   ],
   "source": [
    "joblib.dump(pipe, os.path.join(MODELS_DIR, f\"simple_solution.pk1\"))"
   ]
  },
  {
   "cell_type": "markdown",
   "metadata": {},
   "source": [
    "### 2.2 Improved solution"
   ]
  },
  {
   "cell_type": "markdown",
   "metadata": {},
   "source": [
    "In the improved solution, we will distinguish two main pathways:\n",
    "- Manual compilation: explicity indicate the preprocessing, feature generation and classifier steps to fit.\n",
    "- Grid search: try different combinations of parameters.\n",
    "\n",
    "Actually, if `GRID_SEARCH=True`, the latter path will be followed, which consists in automatically fitting a bunch of different models. However, as this is a brute force approach, the execution of this second approach would take many hours and we did not have the computing power to try all combinations."
   ]
  },
  {
   "cell_type": "code",
   "execution_count": 17,
   "metadata": {},
   "outputs": [],
   "source": [
    "GRID_SEARCH: bool = False  # True"
   ]
  },
  {
   "cell_type": "code",
   "execution_count": 18,
   "metadata": {},
   "outputs": [],
   "source": [
    "if GRID_SEARCH:\n",
    "    models = {\n",
    "            \"AdaBoostClassifier\": AdaBoostClassifier(),\n",
    "            \"RandomForestClassifier\": RandomForestClassifier(),\n",
    "            \"LinearDiscriminantAnalysis\": LinearDiscriminantAnalysis(),\n",
    "            \"QuadraticDiscriminantAnalysis\": QuadraticDiscriminantAnalysis(),\n",
    "            \"BernoulliNB\": BernoulliNB(),\n",
    "            \"GaussianNB\": GaussianNB(),\n",
    "            \"KNeighborsClassifier\": KNeighborsClassifier(),\n",
    "            \"SVC\": SVC(),\n",
    "            \"LogisticRegression\": LogisticRegression(max_iter=1000, random_state = SEED),\n",
    "            \"GradientBoostingClassifier\": GradientBoostingClassifier()\n",
    "            #\"XGBClassifier\": XGBClassifier(n_jobs=multiprocessing.cpu_count() - 1),\n",
    "            #\"CatBoostClassifier\": CatBoostClassifier(silent=True),\n",
    "        }"
   ]
  },
  {
   "cell_type": "markdown",
   "metadata": {},
   "source": [
    "#### 2.1. Manual compilation (`sklearn.pipeline.Pipeline`)"
   ]
  },
  {
   "cell_type": "markdown",
   "metadata": {},
   "source": [
    "We will use the architecture we obtained the best results with"
   ]
  },
  {
   "cell_type": "code",
   "execution_count": 19,
   "metadata": {},
   "outputs": [],
   "source": [
    "if not GRID_SEARCH:\n",
    "    models = {\"LogisticRegression\": LogisticRegression(max_iter=1000, random_state = SEED)}"
   ]
  },
  {
   "cell_type": "code",
   "execution_count": 20,
   "metadata": {},
   "outputs": [
    {
     "name": "stdout",
     "output_type": "stream",
     "text": [
      "[Pipeline] ...... (step 1 of 3) Processing preprocessor, total= 2.4min\n",
      "[Pipeline] ......... (step 2 of 3) Processing generator, total=  40.6s\n",
      "[Pipeline] ........ (step 3 of 3) Processing classifier, total= 5.4min\n"
     ]
    },
    {
     "name": "stderr",
     "output_type": "stream",
     "text": [
      "/home/gcastro/anaconda3/envs/quora_test_env/lib/python3.10/site-packages/sklearn/linear_model/_logistic.py:458: ConvergenceWarning: lbfgs failed to converge (status=1):\n",
      "STOP: TOTAL NO. of ITERATIONS REACHED LIMIT.\n",
      "\n",
      "Increase the number of iterations (max_iter) or scale the data as shown in:\n",
      "    https://scikit-learn.org/stable/modules/preprocessing.html\n",
      "Please also refer to the documentation for alternative solver options:\n",
      "    https://scikit-learn.org/stable/modules/linear_model.html#logistic-regression\n",
      "  n_iter_i = _check_optimize_result(\n"
     ]
    }
   ],
   "source": [
    "if not GRID_SEARCH:\n",
    "    pipe = Pipeline(\n",
    "            [('preprocessor', # TextPreprocessor()\n",
    "              TextPreprocessor(\n",
    "                 remove_stop_words = True,\n",
    "                 remove_punctuation = True,\n",
    "                 to_lower = True,\n",
    "                 apply_stemming = True,\n",
    "                 british = False)\n",
    "            ),\n",
    "             ('generator', FeatureGenerator(exts=('cv_2w', 'tf_idf_2w'), aggs=('stack', 'absolute'))),\n",
    "             ('classifier', models['LogisticRegression'])],\n",
    "            verbose=True)\n",
    "    pipe.fit(x_train, y_train)"
   ]
  },
  {
   "cell_type": "code",
   "execution_count": 24,
   "metadata": {},
   "outputs": [],
   "source": [
    "if not GRID_SEARCH:\n",
    "    joblib.dump(pipe, f'{MODELS_DIR}/improved_solution.joblib')"
   ]
  },
  {
   "cell_type": "markdown",
   "metadata": {},
   "source": [
    "#### 2.2. Grid search"
   ]
  },
  {
   "cell_type": "markdown",
   "metadata": {},
   "source": [
    "For each model, we define a `sklearn.pipeline.Pipeline` to order the transformations and train it using our custom classes"
   ]
  },
  {
   "cell_type": "code",
   "execution_count": 22,
   "metadata": {},
   "outputs": [],
   "source": [
    "if GRID_SEARCH:\n",
    "    fitted_models = {}\n",
    "    scores = {}\n",
    "    for name, model in tqdm(models.items()):\n",
    "        # define pipeline given a model\n",
    "        pipe = Pipeline(\n",
    "            [('preprocessor', TextPreprocessor()),\n",
    "             ('generator', FeatureGenerator()),\n",
    "             ('classifier', model)],\n",
    "            verbose=True)\n",
    "        # get grid of parameters to search\n",
    "        grid = get_param_grid(name, SEED)\n",
    "        grid_search = GridSearchCV(\n",
    "            pipe,\n",
    "            param_grid=grid,\n",
    "            scoring= \"roc_auc\",\n",
    "            cv=2,\n",
    "            verbose=10,\n",
    "            n_jobs=multiprocessing.cpu_count() - 1,\n",
    "            error_score=\"raise\",\n",
    "        )\n",
    "\n",
    "        # fit grid search with pipeline and grid\n",
    "        grid_search.fit(x_train, y_train)\n",
    "\n",
    "        # save model\n",
    "        fitted_models[name] = grid_search.best_estimator_\n",
    "        scores[name] = grid_search.best_score_\n",
    "\n",
    "        joblib.dump(grid_search, os.path.join(MODELS_DIR, f\"fitted_{name}.pk1\"))"
   ]
  },
  {
   "cell_type": "markdown",
   "metadata": {},
   "source": [
    "We save the best model"
   ]
  },
  {
   "cell_type": "code",
   "execution_count": 23,
   "metadata": {},
   "outputs": [],
   "source": [
    "if GRID_SEARCH:\n",
    "    best_model_name = max(scores)\n",
    "    best_model = fitted_models[best_model_name]\n",
    "    print(f\"Best model found in the grid search is {best_model_name}, with a CV score of {scores[best_model_name]:.4f}\")\n",
    "    fitted_pipe = best_model\n",
    "    joblib.dump(fitted_pipe, f'{MODELS_DIR}/improved_solution.joblib')"
   ]
  }
 ],
 "metadata": {
  "kernelspec": {
   "display_name": "quora_test_env",
   "language": "python",
   "name": "quora_test_env"
  },
  "language_info": {
   "codemirror_mode": {
    "name": "ipython",
    "version": 3
   },
   "file_extension": ".py",
   "mimetype": "text/x-python",
   "name": "python",
   "nbconvert_exporter": "python",
   "pygments_lexer": "ipython3",
   "version": "3.10.11"
  }
 },
 "nbformat": 4,
 "nbformat_minor": 5
}
