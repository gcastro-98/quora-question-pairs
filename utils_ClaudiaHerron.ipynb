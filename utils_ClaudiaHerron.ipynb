{
 "cells": [
  {
   "cell_type": "markdown",
   "source": [
    "## Utils by Claudia Herron\n",
    "\n",
    "In this notebook, I briefly explain what functions I was in charged of in this pipeline."
   ],
   "metadata": {
    "collapsed": false
   }
  },
  {
   "cell_type": "markdown",
   "source": [
    "Basically, our project was based on three blocks:\n",
    "* Text Preprocessing: cleaning the input question pairs.\n",
    "* Feature Generation: extracting features from question pairs.\n",
    "* Classification: predicting the target variable (duplicate).\n",
    "\n",
    "We decided to follow the structure proposed by scikit-learn Pipeline. Each of the above steps is implemented by a class.\n",
    "\n",
    "My contribution to this project may be summarized as follows:\n",
    "1. Design of the pipeline and execution flow (together with Gerard)\n",
    "2. TextPreprocessor class\n",
    "3. Support in development of FeatureGenerator\n",
    "4. Grid Search Design\n",
    "\n",
    "\n"
   ],
   "metadata": {
    "collapsed": false
   }
  },
  {
   "cell_type": "markdown",
   "source": [
    "## 1. Design of the pipeline and execution flow"
   ],
   "metadata": {
    "collapsed": false
   }
  },
  {
   "cell_type": "markdown",
   "source": [
    "In this project, we decided to implement from scratch a class for two of the required steps: text preprocessing and feature generation.\n",
    "\n",
    "The first class would apply text transformations, so that the output of the transform method would also be a dataframe with the same structure (one column per question).\n",
    "\n",
    "The second class would transform text into a feature matrix. We distinguish  two kinds of features:\n",
    "* Individual question features: one single feature vector is extracted per question. For example, count vectorizer extracts one vector per question. Then, these feature vectors are aggreagated (for example, using horizontal stacking or some kind of distance).\n",
    "* Pair question features: extract a feature directly from the text of both questions. For example, a boolean indicating if both sentences start with the same word.\n",
    "\n"
   ],
   "metadata": {
    "collapsed": false
   }
  },
  {
   "cell_type": "markdown",
   "source": [
    "## 2. TextPreprocessor"
   ],
   "metadata": {
    "collapsed": false
   }
  },
  {
   "cell_type": "markdown",
   "source": [
    "I developed this class with the idea of trying different preprocessing steps in the complete pipeline. The different class attributes are booleans indicating what are the transformation being applied:\n",
    "* remove_stop_words\n",
    "* remove_punctuation\n",
    "* to_lower\n",
    "* apply_stemming\n",
    "* british"
   ],
   "metadata": {
    "collapsed": false
   }
  },
  {
   "cell_type": "markdown",
   "source": [
    "## 3. FeatureGenerator"
   ],
   "metadata": {
    "collapsed": false
   }
  },
  {
   "cell_type": "markdown",
   "source": [
    "Initially, the feature generator class only produced a single feature per question pair that consisted of two individual question features aggregated. My contribution to this class, was the possibility to combine multiple features into the same matrix.\n",
    "\n",
    "Also, I worked in the development of some of the feature extraction (cv, tf_if) and aggregation functions such as `_horizontal_stacking`"
   ],
   "metadata": {
    "collapsed": false
   }
  },
  {
   "cell_type": "markdown",
   "source": [
    "## 4. Grid Search Design"
   ],
   "metadata": {
    "collapsed": false
   },
   "execution_count": 1
  },
  {
   "cell_type": "markdown",
   "source": [
    "I was also in charge of doing the function `get_param_grid` and the training code for the GridSearch. The idea was that given a classification model, this function would return the complete combination of the preprocessing parameters, feature generation and ML model parameters. Finally, it was not possible to run this complete grid search because each model took too much, but it served as a reference for our experiments."
   ],
   "metadata": {
    "collapsed": false
   }
  }
 ],
 "metadata": {
  "kernelspec": {
   "display_name": "Python 3 (ipykernel)",
   "language": "python",
   "name": "python3"
  },
  "language_info": {
   "codemirror_mode": {
    "name": "ipython",
    "version": 3
   },
   "file_extension": ".py",
   "mimetype": "text/x-python",
   "name": "python",
   "nbconvert_exporter": "python",
   "pygments_lexer": "ipython3",
   "version": "3.10.9"
  }
 },
 "nbformat": 4,
 "nbformat_minor": 5
}
